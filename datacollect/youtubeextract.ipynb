{
 "cells": [
  {
   "cell_type": "code",
   "execution_count": null,
   "outputs": [],
   "source": [
    "from pytube import YouTube\n",
    "\n",
    "# 유튜브 동영상 링크\n",
    "video_url = \"https://youtu.be/c6cPqBE87cs\"\n",
    "\n",
    "# 유튜브 동영상 객체 생성\n",
    "yt = YouTube(video_url)\n",
    "\n",
    "# 오디오 스트림 추출\n",
    "audio_stream = yt.streams.filter(only_audio=True).first()\n",
    "\n",
    "# 오디오 스트림 다운로드\n",
    "audio_file = \"sinyoungjee.mp4\"\n",
    "audio_stream.download(output_path=\"dataset/\", filename=audio_file)\n",
    "\n"
   ],
   "metadata": {
    "collapsed": false,
    "pycharm": {
     "is_executing": true
    }
   }
  },
  {
   "cell_type": "code",
   "execution_count": null,
   "outputs": [],
   "source": [
    "from moviepy.audio.io.AudioFileClip import AudioFileClip\n",
    "\n",
    "# 다운로드한 오디오 파일을 mp3 파일로 변환\n",
    "audio_file = \"dataset/sinyoungjee.mp4\"\n",
    "\n",
    "audio = AudioFileClip(audio_file)\n",
    "audio.write_audiofile(\"dataset/sinyoungjee.mp3\")"
   ],
   "metadata": {
    "collapsed": false,
    "pycharm": {
     "is_executing": true
    }
   }
  },
  {
   "cell_type": "code",
   "execution_count": null,
   "outputs": [],
   "source": [
    "from moviepy.video.io.VideoFileClip import VideoFileClip\n",
    "\n",
    "# 동영상 파일 경로\n",
    "video_file = 'input_video.mp4'\n",
    "\n",
    "# 음악 추출\n",
    "video = VideoFileClip(video_file)\n",
    "audio = video.audio\n",
    "audio_file = 'audio.mp3'\n",
    "audio.write_audiofile(audio_file)\n",
    "\n",
    "# 분할된 음원 파일 생성\n",
    "interval = 5  # 5초 단위로 분할\n",
    "start_time = 0  # 시작 시간\n",
    "end_time = start_time + interval\n",
    "clip_number = 0\n",
    "\n",
    "while end_time < audio.duration:\n",
    "    clip = AudioFileClip(audio_file).subclip(start_time, end_time)\n",
    "    clip_file = f'clip{clip_number}.mp3'\n",
    "    clip.write_audiofile(clip_file)\n",
    "    start_time = end_time\n",
    "    end_time += interval\n",
    "    clip_number += 1\n",
    "\n",
    "# 마지막 클립 생성\n",
    "clip = AudioFileClip(audio_file).subclip(start_time, audio.duration)\n",
    "clip_file = f'clip{clip_number}.mp3'\n",
    "clip.write_audiofile(clip_file)\n"
   ],
   "metadata": {
    "collapsed": false
   }
  },
  {
   "cell_type": "code",
   "execution_count": null,
   "outputs": [],
   "source": [
    "import spleeter\n",
    "\n",
    "# 음원 파일 경로\n",
    "audio_file = 'audio.mp3'\n",
    "\n",
    "# 보컬 추출\n",
    "separator = spleeter.Separator('spleeter:2stems')\n",
    "separator.separate_to_file(audio_file, './')\n",
    "\n",
    "# 추출된 보컬 파일 저장\n",
    "vocals_file = 'vocals.wav'\n",
    "!mv 'audio/vocals.wav' '{vocals_file}'"
   ],
   "metadata": {
    "collapsed": false
   }
  }
 ],
 "metadata": {
  "kernelspec": {
   "display_name": "Python 3",
   "language": "python",
   "name": "python3"
  },
  "language_info": {
   "codemirror_mode": {
    "name": "ipython",
    "version": 2
   },
   "file_extension": ".py",
   "mimetype": "text/x-python",
   "name": "python",
   "nbconvert_exporter": "python",
   "pygments_lexer": "ipython2",
   "version": "2.7.6"
  }
 },
 "nbformat": 4,
 "nbformat_minor": 0
}
